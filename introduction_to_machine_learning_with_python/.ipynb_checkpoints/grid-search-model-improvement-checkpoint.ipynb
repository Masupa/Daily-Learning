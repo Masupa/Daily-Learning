{
 "cells": [
  {
   "cell_type": "markdown",
   "metadata": {},
   "source": [
    "    GRID-SEARCH\n",
    "    \n",
    "    Grid search is a technique that can be used to improve a model's performance on a given datasets\n",
    "    by searching through a space of parameters and finding parameters that increase the model's\n",
    "    performance."
   ]
  },
  {
   "cell_type": "code",
   "execution_count": 6,
   "metadata": {},
   "outputs": [],
   "source": [
    "import numpy as np"
   ]
  },
  {
   "cell_type": "markdown",
   "metadata": {},
   "source": [
    "    Sample illustration:\n",
    "    \n",
    "    Let's train a model that identifies the different plant species of the iris flower, using the iris\n",
    "    dataset in-built in sklearn."
   ]
  },
  {
   "cell_type": "code",
   "execution_count": 3,
   "metadata": {},
   "outputs": [],
   "source": [
    "from sklearn.datasets import load_iris  # Load iris dataset\n",
    "from sklearn.model_selection import train_test_split  # Split data into train and test sets\n",
    "from sklearn.model_selection import cross_val_score  # Cross validation split\n",
    "\n",
    "# These are the models we want to train\n",
    "from sklearn.tree import DecisionTreeClassifier  # Decision Tree Model\n",
    "from sklearn.linear_model import LogisticRegression  # Logistic Regression Model\n",
    "from sklearn.svm import SVC  # Support Vector Classifier"
   ]
  },
  {
   "cell_type": "code",
   "execution_count": 2,
   "metadata": {},
   "outputs": [],
   "source": [
    "data, target = load_iris(return_X_y=True)"
   ]
  },
  {
   "cell_type": "code",
   "execution_count": 8,
   "metadata": {},
   "outputs": [
    {
     "name": "stdout",
     "output_type": "stream",
     "text": [
      "Model Accuracies: [0.96666667 0.96666667 0.9        0.96666667 1.        ]\n",
      "Mean Accuracy: 0.9600000000000002\n"
     ]
    }
   ],
   "source": [
    "# Decision Tree\n",
    "\n",
    "tree = DecisionTreeClassifier()\n",
    "tree_scores = cross_val_score(tree, data, target, cv=5)\n",
    "\n",
    "print(\"Model Accuracies: {}\".format(tree_scores))\n",
    "print(\"Mean Accuracy: {}\".format(np.mean(tree_scores)))"
   ]
  },
  {
   "cell_type": "code",
   "execution_count": 7,
   "metadata": {},
   "outputs": [
    {
     "name": "stdout",
     "output_type": "stream",
     "text": [
      "Model Accuracies: [0.96666667 1.         0.93333333 0.96666667 1.        ]\n",
      "Mean Accuracy: 0.9733333333333334\n"
     ]
    }
   ],
   "source": [
    "# Logistic Regression\n",
    "\n",
    "log_reg = LogisticRegression(max_iter=1000)\n",
    "log_scores = cross_val_score(log_reg, data, target, cv=5)\n",
    "\n",
    "print(\"Model Accuracies: {}\".format(log_scores))\n",
    "print(\"Mean Accuracy: {}\".format(np.mean(log_scores)))"
   ]
  },
  {
   "cell_type": "code",
   "execution_count": 9,
   "metadata": {},
   "outputs": [
    {
     "name": "stdout",
     "output_type": "stream",
     "text": [
      "Model Accuracies: [0.96666667 0.96666667 0.96666667 0.93333333 1.        ]\n",
      "Mean Accuracy: 0.9666666666666666\n"
     ]
    }
   ],
   "source": [
    "# SVC\n",
    "\n",
    "svc = SVC()\n",
    "svm_scores = cross_val_score(svc, data, target, cv=5)\n",
    "\n",
    "print(\"Model Accuracies: {}\".format(svm_scores))\n",
    "print(\"Mean Accuracy: {}\".format(np.mean(svm_scores)))"
   ]
  },
  {
   "cell_type": "markdown",
   "metadata": {},
   "source": []
  },
  {
   "cell_type": "markdown",
   "metadata": {},
   "source": [
    "    The mean accuracy scores above give us an idea about how well our model's generalizing on a new\n",
    "    dataset. Once we've understood how well our model's are performing, the other main question to ask is: \n",
    "    \n",
    "        ??? \"Can we improve their performance?\"\n",
    "    \n",
    "    Yes, we can improve their performance by searching through a space of model parameters, and evaluating\n",
    "    the accuracy scores (or regression metrics - for regression)."
   ]
  },
  {
   "cell_type": "markdown",
   "metadata": {},
   "source": []
  },
  {
   "cell_type": "code",
   "execution_count": 33,
   "metadata": {},
   "outputs": [
    {
     "name": "stdout",
     "output_type": "stream",
     "text": [
      "Best Score: 0.9733333333333334\n",
      "Best Params: {'max_depth': 3}\n"
     ]
    }
   ],
   "source": [
    "# Improving Decision Trees\n",
    "\n",
    "# Maximum depth is a feature for decision trees\n",
    "# Let's say we want to see how our model's performance\n",
    "# changes by tweaking this parameter\n",
    "\n",
    "list_max_depth = [3, 6, 12, 18, 24, 30, 40, 50]  # Does this parameter influence our model's accuracy?\n",
    "\n",
    "best_score_ = 0  # Accuracy scores range [0, 100]\n",
    "\n",
    "for max_depth in list_max_depth:\n",
    "    clf_tree = DecisionTreeClassifier(max_depth=max_depth)\n",
    "    scores = cross_val_score(clf_tree, data, target, cv=5)\n",
    "    mean_score = np.mean(scores)\n",
    "    \n",
    "    if mean_score > best_score_:\n",
    "        best_score_ = mean_score\n",
    "        best_params_ = {\n",
    "            \"max_depth\": max_depth\n",
    "        }\n",
    "        \n",
    "print(\"Best Score: {}\".format(best_score_))\n",
    "print(\"Best Params: {}\".format(best_params_))"
   ]
  },
  {
   "cell_type": "markdown",
   "metadata": {},
   "source": [
    "    We observe that the accuracy of the tree classifier improved by using a max_depth of 3.\n",
    "    \n",
    "    Can we improve this further by adding another search parameter, hencing searching through\n",
    "    a combition of the max_depth + the additional parameter."
   ]
  },
  {
   "cell_type": "code",
   "execution_count": 39,
   "metadata": {},
   "outputs": [
    {
     "name": "stdout",
     "output_type": "stream",
     "text": [
      "Best Score: 0.9733333333333334\n",
      "Best Params: {'max_depth': 3, 'max_leaf_nodes': 5}\n"
     ]
    }
   ],
   "source": [
    "# Adding another parameter\n",
    "\n",
    "list_max_depth = [3, 6, 12, 18, 24, 30, 40, 50]\n",
    "list_max_leaf_nodes = [4, 5, 6, 7, 8, 9, 10]\n",
    "\n",
    "best_score_ = 0\n",
    "\n",
    "for max_depth in list_max_depth:\n",
    "    for max_leaf_nodes in list_max_leaf_nodes:\n",
    "        \n",
    "        tree = DecisionTreeClassifier(max_depth=max_depth, max_leaf_nodes=max_leaf_nodes)\n",
    "        scores = cross_val_score(tree, data, target, cv=5)\n",
    "        mean_score = np.mean(scores)\n",
    "        \n",
    "        if mean_score > best_score_:\n",
    "            best_score_ = mean_score\n",
    "            best_params_ = {\n",
    "                \"max_depth\": max_depth,\n",
    "                \"max_leaf_nodes\": max_leaf_nodes\n",
    "            }\n",
    "            \n",
    "print(\"Best Score: {}\".format(best_score_))\n",
    "print(\"Best Params: {}\".format(best_params_))"
   ]
  },
  {
   "cell_type": "markdown",
   "metadata": {},
   "source": [
    "    Here, we observe that our accuracy score hasn't improved with the addition of max_lead_nodes. This\n",
    "    entails that 'max_leaf_nodes' has no impact on the performance."
   ]
  },
  {
   "cell_type": "code",
   "execution_count": null,
   "metadata": {},
   "outputs": [],
   "source": []
  }
 ],
 "metadata": {
  "kernelspec": {
   "display_name": "Python 3",
   "language": "python",
   "name": "python3"
  },
  "language_info": {
   "codemirror_mode": {
    "name": "ipython",
    "version": 3
   },
   "file_extension": ".py",
   "mimetype": "text/x-python",
   "name": "python",
   "nbconvert_exporter": "python",
   "pygments_lexer": "ipython3",
   "version": "3.8.3"
  }
 },
 "nbformat": 4,
 "nbformat_minor": 4
}
