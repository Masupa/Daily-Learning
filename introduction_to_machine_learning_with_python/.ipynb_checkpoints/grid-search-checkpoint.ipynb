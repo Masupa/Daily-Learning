{
 "cells": [
  {
   "cell_type": "markdown",
   "metadata": {},
   "source": [
    "    GRID-SEARCH\n",
    "    \n",
    "    Grid-search is a technique used for finding the parameters that improve a model's generalization on a\n",
    "    given dataset. We can implement grid-search using for-loops."
   ]
  },
  {
   "cell_type": "markdown",
   "metadata": {},
   "source": []
  },
  {
   "cell_type": "code",
   "execution_count": 1,
   "metadata": {},
   "outputs": [],
   "source": [
    "from sklearn.datasets import load_iris  # Iris Dataset\n",
    "from sklearn.svm import SVC  # Support Vector Machine Classifier\n",
    "from sklearn.model_selection import train_test_split  # Split Data; Train & Test Sets"
   ]
  },
  {
   "cell_type": "markdown",
   "metadata": {},
   "source": [
    "    `We want to train a classifier identifies species of the iris dataset`"
   ]
  },
  {
   "cell_type": "code",
   "execution_count": 2,
   "metadata": {},
   "outputs": [
    {
     "name": "stdout",
     "output_type": "stream",
     "text": [
      "Grid-Search Info\n",
      "================\n",
      "Best Score: 0.9736842105263158\n",
      "Best Params: {'C': 10.0, 'gamma': 0.01}\n",
      "\n"
     ]
    }
   ],
   "source": [
    "features, target = load_iris(return_X_y=True)\n",
    "X_train, X_test, y_train, y_test = train_test_split(features, target, test_size=0.25, random_state=0)\n",
    "\n",
    "best_score_ = 0\n",
    "\n",
    "for gamma in [0.001, 0.01, 0.1, 1.0, 10.0]:\n",
    "    for C in [0.001, 0.01, 0.1, 1.0, 10.0]:\n",
    "        \n",
    "        svc = SVC(gamma=gamma, C=C)\n",
    "        svc.fit(X_train, y_train)\n",
    "        score = svc.score(X_test, y_test)\n",
    "        \n",
    "        if score > best_score_:\n",
    "            best_score_ = score\n",
    "            best_params = {'C': C, 'gamma': gamma}\n",
    "            \n",
    "print(\"Grid-Search Info\")\n",
    "print(\"================\")\n",
    "print(\"Best Score: {}\".format(best_score_))\n",
    "print(\"Best Params: {}\".format(best_params))\n",
    "print(\"\")"
   ]
  },
  {
   "cell_type": "code",
   "execution_count": 3,
   "metadata": {},
   "outputs": [
    {
     "name": "stdout",
     "output_type": "stream",
     "text": [
      "====================\n",
      "Best Score: 0.9583333333333334\n",
      "Best Params: {'C': 10.0, 'gamma': 0.01}\n",
      "\n"
     ]
    }
   ],
   "source": [
    "X_train_val, X_test, y_train_val, y_test = train_test_split(features, target, test_size=0.2, random_state=0)\n",
    "X_train, X_val, y_train, y_val = train_test_split(X_train_val, y_train_val, test_size=0.2, random_state=2)\n",
    "\n",
    "best_score_ = 0\n",
    "\n",
    "for gamma in [0.001, 0.01, 0.1, 1.0, 10.0]:\n",
    "    for C in [0.001, 0.01, 0.1, 1.0, 10.0]:\n",
    "        \n",
    "        svc = SVC(C=C, gamma=gamma)\n",
    "        svc.fit(X_train, y_train)\n",
    "        score = svc.score(X_val, y_val)\n",
    "        \n",
    "        if score > best_score_:\n",
    "            best_score_ = score\n",
    "            best_params_ = {\"C\": C, \"gamma\": gamma}\n",
    "            model_ = svc\n",
    "            \n",
    "print(\"====================\")\n",
    "print(\"Best Score: {}\".format(best_score_))\n",
    "print(\"Best Params: {}\".format(best_params_))\n",
    "print(\"\")"
   ]
  },
  {
   "cell_type": "code",
   "execution_count": 4,
   "metadata": {},
   "outputs": [
    {
     "name": "stdout",
     "output_type": "stream",
     "text": [
      "Generalization Score: 1.0\n"
     ]
    }
   ],
   "source": [
    "svc = SVC(**best_params_)\n",
    "svc.fit(X_train_val, y_train_val)\n",
    "score = svc.score(X_test, y_test)\n",
    "print(\"Generalization Score: {}\".format(score))"
   ]
  },
  {
   "cell_type": "markdown",
   "metadata": {},
   "source": []
  },
  {
   "cell_type": "code",
   "execution_count": 34,
   "metadata": {},
   "outputs": [],
   "source": [
    "import numpy as np\n",
    "import pandas as pd\n",
    "import seaborn as sns\n",
    "\n",
    "%matplotlib inline"
   ]
  },
  {
   "cell_type": "code",
   "execution_count": 7,
   "metadata": {},
   "outputs": [
    {
     "name": "stdout",
     "output_type": "stream",
     "text": [
      "Best validation score: 0.975\n",
      "Best parameters: {'C': 10.0, 'gamma': 0.1}\n",
      "Testing score: 0.97\n"
     ]
    }
   ],
   "source": [
    "from sklearn.model_selection import cross_val_score\n",
    "\n",
    "X_train, X_test, y_train, y_test = train_test_split(features, target, test_size=0.2, random_state=2)\n",
    "\n",
    "best_score_ = 0\n",
    "\n",
    "for gamma in [0.001, 0.01, 0.1, 1.0, 10.0]:\n",
    "    for C in [0.001, 0.01, 0.1, 1.0, 10.0]:\n",
    "        \n",
    "        svc = SVC(gamma=gamma, C=C)\n",
    "        cv_scores = cross_val_score(svc, X_train, y_train, cv=5)\n",
    "        mean_score = np.mean(cv_scores)\n",
    "        \n",
    "        if mean_score > best_score_:\n",
    "            best_score_ = mean_score\n",
    "            best_params_ = {'C': C, 'gamma': gamma}\n",
    "            best_model_ = svc\n",
    "            \n",
    "print(\"Best validation score: {}\".format(best_score_))\n",
    "print(\"Best parameters: {}\".format(best_params_))\n",
    "\n",
    "svc = SVC(**best_params_)\n",
    "svc.fit(X_train, y_train)\n",
    "score = svc.score(X_test, y_test)\n",
    "print(\"Testing score: {}\".format(np.round(score, decimals=2)))"
   ]
  },
  {
   "cell_type": "markdown",
   "metadata": {},
   "source": []
  },
  {
   "cell_type": "code",
   "execution_count": 8,
   "metadata": {},
   "outputs": [
    {
     "name": "stdout",
     "output_type": "stream",
     "text": [
      "Grid-SearchCV Score: 0.9666666666666667\n"
     ]
    }
   ],
   "source": [
    "from sklearn.model_selection import GridSearchCV\n",
    "\n",
    "X_train, X_test, y_train, y_test = train_test_split(features, target, test_size=0.2, random_state=2)\n",
    "\n",
    "svc = SVC()\n",
    "params_grid = {\"C\": [0.001, 0.01, 0.1, 1.0, 10.0],\n",
    "              \"gamma\": [0.001, 0.01, 0.1, 1.0, 10.0]}\n",
    "\n",
    "grid_search_cv = GridSearchCV(svc, param_grid=params_grid)\n",
    "grid_search_cv.fit(X_train, y_train)\n",
    "score = grid_search_cv.score(X_test, y_test)\n",
    "\n",
    "print(\"Grid-SearchCV Score: {}\".format(score))"
   ]
  },
  {
   "cell_type": "markdown",
   "metadata": {},
   "source": [
    "`Grid-Search Results Attributes`"
   ]
  },
  {
   "cell_type": "code",
   "execution_count": 25,
   "metadata": {},
   "outputs": [
    {
     "name": "stdout",
     "output_type": "stream",
     "text": [
      "Best Parameters: {'C': 10.0, 'gamma': 0.1}\n",
      "Best Score: 0.97\n"
     ]
    }
   ],
   "source": [
    "print(\"Best Parameters: {}\".format(grid_search_cv.best_params_))\n",
    "print(\"Best Score: {:.2f}\".format(grid_search_cv.best_score_))"
   ]
  },
  {
   "cell_type": "code",
   "execution_count": 28,
   "metadata": {},
   "outputs": [
    {
     "name": "stdout",
     "output_type": "stream",
     "text": [
      "Best Estimator: \n",
      "SVC(C=10.0, gamma=0.1)\n"
     ]
    }
   ],
   "source": [
    "print(\"Best Estimator: \\n{}\".format(grid_search_cv.best_estimator_))"
   ]
  },
  {
   "cell_type": "code",
   "execution_count": 36,
   "metadata": {},
   "outputs": [
    {
     "data": {
      "text/html": [
       "<div>\n",
       "<style scoped>\n",
       "    .dataframe tbody tr th:only-of-type {\n",
       "        vertical-align: middle;\n",
       "    }\n",
       "\n",
       "    .dataframe tbody tr th {\n",
       "        vertical-align: top;\n",
       "    }\n",
       "\n",
       "    .dataframe thead th {\n",
       "        text-align: right;\n",
       "    }\n",
       "</style>\n",
       "<table border=\"1\" class=\"dataframe\">\n",
       "  <thead>\n",
       "    <tr style=\"text-align: right;\">\n",
       "      <th></th>\n",
       "      <th>mean_fit_time</th>\n",
       "      <th>std_fit_time</th>\n",
       "      <th>mean_score_time</th>\n",
       "      <th>std_score_time</th>\n",
       "      <th>param_C</th>\n",
       "      <th>param_gamma</th>\n",
       "      <th>params</th>\n",
       "      <th>split0_test_score</th>\n",
       "      <th>split1_test_score</th>\n",
       "      <th>split2_test_score</th>\n",
       "      <th>split3_test_score</th>\n",
       "      <th>split4_test_score</th>\n",
       "      <th>mean_test_score</th>\n",
       "      <th>std_test_score</th>\n",
       "      <th>rank_test_score</th>\n",
       "    </tr>\n",
       "  </thead>\n",
       "  <tbody>\n",
       "    <tr>\n",
       "      <th>0</th>\n",
       "      <td>0.002020</td>\n",
       "      <td>0.000800</td>\n",
       "      <td>0.001017</td>\n",
       "      <td>0.000341</td>\n",
       "      <td>0.001</td>\n",
       "      <td>0.001</td>\n",
       "      <td>{'C': 0.001, 'gamma': 0.001}</td>\n",
       "      <td>0.333333</td>\n",
       "      <td>0.333333</td>\n",
       "      <td>0.666667</td>\n",
       "      <td>0.333333</td>\n",
       "      <td>0.333333</td>\n",
       "      <td>0.400000</td>\n",
       "      <td>0.133333</td>\n",
       "      <td>15</td>\n",
       "    </tr>\n",
       "    <tr>\n",
       "      <th>1</th>\n",
       "      <td>0.001620</td>\n",
       "      <td>0.000131</td>\n",
       "      <td>0.000808</td>\n",
       "      <td>0.000067</td>\n",
       "      <td>0.001</td>\n",
       "      <td>0.01</td>\n",
       "      <td>{'C': 0.001, 'gamma': 0.01}</td>\n",
       "      <td>0.333333</td>\n",
       "      <td>0.333333</td>\n",
       "      <td>0.666667</td>\n",
       "      <td>0.333333</td>\n",
       "      <td>0.333333</td>\n",
       "      <td>0.400000</td>\n",
       "      <td>0.133333</td>\n",
       "      <td>15</td>\n",
       "    </tr>\n",
       "    <tr>\n",
       "      <th>2</th>\n",
       "      <td>0.001076</td>\n",
       "      <td>0.000383</td>\n",
       "      <td>0.000463</td>\n",
       "      <td>0.000058</td>\n",
       "      <td>0.001</td>\n",
       "      <td>0.1</td>\n",
       "      <td>{'C': 0.001, 'gamma': 0.1}</td>\n",
       "      <td>0.333333</td>\n",
       "      <td>0.333333</td>\n",
       "      <td>0.666667</td>\n",
       "      <td>0.333333</td>\n",
       "      <td>0.333333</td>\n",
       "      <td>0.400000</td>\n",
       "      <td>0.133333</td>\n",
       "      <td>15</td>\n",
       "    </tr>\n",
       "    <tr>\n",
       "      <th>3</th>\n",
       "      <td>0.001193</td>\n",
       "      <td>0.000268</td>\n",
       "      <td>0.000693</td>\n",
       "      <td>0.000309</td>\n",
       "      <td>0.001</td>\n",
       "      <td>1</td>\n",
       "      <td>{'C': 0.001, 'gamma': 1.0}</td>\n",
       "      <td>0.333333</td>\n",
       "      <td>0.333333</td>\n",
       "      <td>0.666667</td>\n",
       "      <td>0.333333</td>\n",
       "      <td>0.333333</td>\n",
       "      <td>0.400000</td>\n",
       "      <td>0.133333</td>\n",
       "      <td>15</td>\n",
       "    </tr>\n",
       "    <tr>\n",
       "      <th>4</th>\n",
       "      <td>0.001165</td>\n",
       "      <td>0.000254</td>\n",
       "      <td>0.000702</td>\n",
       "      <td>0.000209</td>\n",
       "      <td>0.001</td>\n",
       "      <td>10</td>\n",
       "      <td>{'C': 0.001, 'gamma': 10.0}</td>\n",
       "      <td>0.333333</td>\n",
       "      <td>0.333333</td>\n",
       "      <td>0.583333</td>\n",
       "      <td>0.333333</td>\n",
       "      <td>0.333333</td>\n",
       "      <td>0.383333</td>\n",
       "      <td>0.100000</td>\n",
       "      <td>24</td>\n",
       "    </tr>\n",
       "  </tbody>\n",
       "</table>\n",
       "</div>"
      ],
      "text/plain": [
       "   mean_fit_time  std_fit_time  mean_score_time  std_score_time param_C  \\\n",
       "0       0.002020      0.000800         0.001017        0.000341   0.001   \n",
       "1       0.001620      0.000131         0.000808        0.000067   0.001   \n",
       "2       0.001076      0.000383         0.000463        0.000058   0.001   \n",
       "3       0.001193      0.000268         0.000693        0.000309   0.001   \n",
       "4       0.001165      0.000254         0.000702        0.000209   0.001   \n",
       "\n",
       "  param_gamma                        params  split0_test_score  \\\n",
       "0       0.001  {'C': 0.001, 'gamma': 0.001}           0.333333   \n",
       "1        0.01   {'C': 0.001, 'gamma': 0.01}           0.333333   \n",
       "2         0.1    {'C': 0.001, 'gamma': 0.1}           0.333333   \n",
       "3           1    {'C': 0.001, 'gamma': 1.0}           0.333333   \n",
       "4          10   {'C': 0.001, 'gamma': 10.0}           0.333333   \n",
       "\n",
       "   split1_test_score  split2_test_score  split3_test_score  split4_test_score  \\\n",
       "0           0.333333           0.666667           0.333333           0.333333   \n",
       "1           0.333333           0.666667           0.333333           0.333333   \n",
       "2           0.333333           0.666667           0.333333           0.333333   \n",
       "3           0.333333           0.666667           0.333333           0.333333   \n",
       "4           0.333333           0.583333           0.333333           0.333333   \n",
       "\n",
       "   mean_test_score  std_test_score  rank_test_score  \n",
       "0         0.400000        0.133333               15  \n",
       "1         0.400000        0.133333               15  \n",
       "2         0.400000        0.133333               15  \n",
       "3         0.400000        0.133333               15  \n",
       "4         0.383333        0.100000               24  "
      ]
     },
     "execution_count": 36,
     "metadata": {},
     "output_type": "execute_result"
    }
   ],
   "source": [
    "cv_results = pd.DataFrame(grid_search_cv.cv_results_)\n",
    "cv_results.head()"
   ]
  },
  {
   "cell_type": "code",
   "execution_count": 46,
   "metadata": {},
   "outputs": [],
   "source": [
    "mean_scores = np.array(cv_results.mean_test_score).reshape(5,5)"
   ]
  },
  {
   "cell_type": "code",
   "execution_count": 57,
   "metadata": {},
   "outputs": [
    {
     "data": {
      "text/plain": [
       "<matplotlib.axes._subplots.AxesSubplot at 0x7fb8f86cecd0>"
      ]
     },
     "execution_count": 57,
     "metadata": {},
     "output_type": "execute_result"
    },
    {
     "data": {
      "image/png": "[encoded data removed]",
      "text/plain": [
       "<Figure size 432x288 with 2 Axes>"
      ]
     },
     "metadata": {
      "needs_background": "light"
     },
     "output_type": "display_data"
    }
   ],
   "source": [
    "gamma = grid_search_cv.param_grid['gamma']\n",
    "c = grid_search_cv.param_grid['C']\n",
    "\n",
    "sns.heatmap(mean_scores, \n",
    "            xticklabels=c, \n",
    "            yticklabels=gamma, \n",
    "            cmap=\"viridis\", \n",
    "            annot=True)"
   ]
  },
  {
   "cell_type": "code",
   "execution_count": null,
   "metadata": {},
   "outputs": [],
   "source": []
  }
 ],
 "metadata": {
  "kernelspec": {
   "display_name": "Python 3",
   "language": "python",
   "name": "python3"
  },
  "language_info": {
   "codemirror_mode": {
    "name": "ipython",
    "version": 3
   },
   "file_extension": ".py",
   "mimetype": "text/x-python",
   "name": "python",
   "nbconvert_exporter": "python",
   "pygments_lexer": "ipython3",
   "version": "3.8.3"
  }
 },
 "nbformat": 4,
 "nbformat_minor": 4
}
