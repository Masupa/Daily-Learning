{
 "cells": [
  {
   "cell_type": "markdown",
   "metadata": {},
   "source": [
    "`Import Libraries`\n",
    "    * NumPy, Pandas, Matplotlib, Seaborn\n",
    "\n",
    "`Import Data`\n",
    "    * fox, nyt, tel\n",
    "\n",
    "`Data Exploration`\n",
    "    * Shape, NaN values, Removing \"url's\" columns, etc\n",
    "    * Concantenating all DataFrames\n",
    "    \n",
    "`Data Pre-processing`\n",
    "    * NLTK Library - Removing special characters, stop works, etc\n",
    "    * Split data into X and y\n",
    "    \n",
    "`Modelling`\n",
    "    * KMeans"
   ]
  },
  {
   "cell_type": "markdown",
   "metadata": {},
   "source": [
    "#### Import Libraries"
   ]
  },
  {
   "cell_type": "code",
   "execution_count": 1,
   "metadata": {},
   "outputs": [],
   "source": [
    "import numpy as np\n",
    "import pandas as pd\n",
    "import seaborn as sns\n",
    "import matplotlib.pyplot as plt"
   ]
  },
  {
   "cell_type": "code",
   "execution_count": 2,
   "metadata": {},
   "outputs": [],
   "source": [
    "sns.set_style('darkgrid')\n",
    "%matplotlib inline"
   ]
  },
  {
   "cell_type": "code",
   "execution_count": 3,
   "metadata": {},
   "outputs": [],
   "source": [
    "from sklearn.preprocessing import LabelEncoder\n",
    "from tensorflow.keras.preprocessing.sequence import pad_sequences\n",
    "from tensorflow.keras.preprocessing.text import Tokenizer\n",
    "from sklearn.decomposition import PCA"
   ]
  },
  {
   "cell_type": "markdown",
   "metadata": {},
   "source": [
    "#### Import News Data"
   ]
  },
  {
   "cell_type": "code",
   "execution_count": 4,
   "metadata": {},
   "outputs": [],
   "source": [
    "fox = pd.read_csv(\"../Data/fox_article.csv\")\n",
    "nyt = pd.read_csv(\"../Data/nyt_article.csv\")\n",
    "tel = pd.read_csv(\"../Data/tel_article.csv\")"
   ]
  },
  {
   "cell_type": "markdown",
   "metadata": {},
   "source": [
    "#### Data Exploration"
   ]
  },
  {
   "cell_type": "code",
   "execution_count": 5,
   "metadata": {},
   "outputs": [
    {
     "data": {
      "text/html": [
       "<div>\n",
       "<style scoped>\n",
       "    .dataframe tbody tr th:only-of-type {\n",
       "        vertical-align: middle;\n",
       "    }\n",
       "\n",
       "    .dataframe tbody tr th {\n",
       "        vertical-align: top;\n",
       "    }\n",
       "\n",
       "    .dataframe thead th {\n",
       "        text-align: right;\n",
       "    }\n",
       "</style>\n",
       "<table border=\"1\" class=\"dataframe\">\n",
       "  <thead>\n",
       "    <tr style=\"text-align: right;\">\n",
       "      <th></th>\n",
       "      <th>Title</th>\n",
       "      <th>Article</th>\n",
       "      <th>Section</th>\n",
       "      <th>Article_URL</th>\n",
       "    </tr>\n",
       "  </thead>\n",
       "  <tbody>\n",
       "    <tr>\n",
       "      <th>0</th>\n",
       "      <td>Biden's $2T spending plan, billed as infrastru...</td>\n",
       "      <td>$2 trillion   plan, which is being promoted l...</td>\n",
       "      <td>Politics</td>\n",
       "      <td>https://www.foxnews.com//politics/biden-spendi...</td>\n",
       "    </tr>\n",
       "    <tr>\n",
       "      <th>1</th>\n",
       "      <td>Ingraham: Corporations who speak out against G...</td>\n",
       "      <td>Democrats and big corporations like Delta Airl...</td>\n",
       "      <td>Politics</td>\n",
       "      <td>https://www.foxnews.com//media/laura-ingraham-...</td>\n",
       "    </tr>\n",
       "    <tr>\n",
       "      <th>2</th>\n",
       "      <td>Girl Scout breaks cookie-selling record with m...</td>\n",
       "      <td>An 8-year-old from San Bernardino, California ...</td>\n",
       "      <td>Politics</td>\n",
       "      <td>https://www.foxnews.com//food-drink/girl-scout...</td>\n",
       "    </tr>\n",
       "    <tr>\n",
       "      <th>3</th>\n",
       "      <td>Andrew Yang hospitalized, NYC campaign events ...</td>\n",
       "      <td>mayoral candidate   was hospitalized Friday a...</td>\n",
       "      <td>Politics</td>\n",
       "      <td>https://www.foxnews.com//politics/andrew-yang-...</td>\n",
       "    </tr>\n",
       "    <tr>\n",
       "      <th>4</th>\n",
       "      <td>Former Trump aide Max Miller raised 500K in on...</td>\n",
       "      <td>Max Miller, the former   aide mounting a prim...</td>\n",
       "      <td>Politics</td>\n",
       "      <td>https://www.foxnews.com//politics/former-trump...</td>\n",
       "    </tr>\n",
       "  </tbody>\n",
       "</table>\n",
       "</div>"
      ],
      "text/plain": [
       "                                               Title  \\\n",
       "0  Biden's $2T spending plan, billed as infrastru...   \n",
       "1  Ingraham: Corporations who speak out against G...   \n",
       "2  Girl Scout breaks cookie-selling record with m...   \n",
       "3  Andrew Yang hospitalized, NYC campaign events ...   \n",
       "4  Former Trump aide Max Miller raised 500K in on...   \n",
       "\n",
       "                                             Article   Section  \\\n",
       "0   $2 trillion   plan, which is being promoted l...  Politics   \n",
       "1  Democrats and big corporations like Delta Airl...  Politics   \n",
       "2  An 8-year-old from San Bernardino, California ...  Politics   \n",
       "3   mayoral candidate   was hospitalized Friday a...  Politics   \n",
       "4   Max Miller, the former   aide mounting a prim...  Politics   \n",
       "\n",
       "                                         Article_URL  \n",
       "0  https://www.foxnews.com//politics/biden-spendi...  \n",
       "1  https://www.foxnews.com//media/laura-ingraham-...  \n",
       "2  https://www.foxnews.com//food-drink/girl-scout...  \n",
       "3  https://www.foxnews.com//politics/andrew-yang-...  \n",
       "4  https://www.foxnews.com//politics/former-trump...  "
      ]
     },
     "execution_count": 5,
     "metadata": {},
     "output_type": "execute_result"
    }
   ],
   "source": [
    "fox.head()"
   ]
  },
  {
   "cell_type": "code",
   "execution_count": 6,
   "metadata": {},
   "outputs": [
    {
     "data": {
      "text/plain": [
       "Title          0\n",
       "Article        0\n",
       "Section        0\n",
       "Article_URL    0\n",
       "dtype: int64"
      ]
     },
     "execution_count": 6,
     "metadata": {},
     "output_type": "execute_result"
    }
   ],
   "source": [
    "fox.isna().sum()"
   ]
  },
  {
   "cell_type": "code",
   "execution_count": 7,
   "metadata": {},
   "outputs": [
    {
     "data": {
      "text/plain": [
       "(92, 4)"
      ]
     },
     "execution_count": 7,
     "metadata": {},
     "output_type": "execute_result"
    }
   ],
   "source": [
    "fox.shape"
   ]
  },
  {
   "cell_type": "code",
   "execution_count": 8,
   "metadata": {},
   "outputs": [
    {
     "data": {
      "text/plain": [
       "array(['Politics', 'Sports', 'Lifestyle'], dtype=object)"
      ]
     },
     "execution_count": 8,
     "metadata": {},
     "output_type": "execute_result"
    }
   ],
   "source": [
    "fox.Section.unique()"
   ]
  },
  {
   "cell_type": "code",
   "execution_count": 9,
   "metadata": {},
   "outputs": [
    {
     "data": {
      "text/html": [
       "<div>\n",
       "<style scoped>\n",
       "    .dataframe tbody tr th:only-of-type {\n",
       "        vertical-align: middle;\n",
       "    }\n",
       "\n",
       "    .dataframe tbody tr th {\n",
       "        vertical-align: top;\n",
       "    }\n",
       "\n",
       "    .dataframe thead th {\n",
       "        text-align: right;\n",
       "    }\n",
       "</style>\n",
       "<table border=\"1\" class=\"dataframe\">\n",
       "  <thead>\n",
       "    <tr style=\"text-align: right;\">\n",
       "      <th></th>\n",
       "      <th>Title</th>\n",
       "      <th>Article</th>\n",
       "      <th>Section</th>\n",
       "      <th>Article_URL</th>\n",
       "    </tr>\n",
       "  </thead>\n",
       "  <tbody>\n",
       "    <tr>\n",
       "      <th>0</th>\n",
       "      <td>NaN</td>\n",
       "      <td>Pilgrims have been coming to Switzerland’s  . ...</td>\n",
       "      <td>Travel</td>\n",
       "      <td>https://www.nytimes.com/2021/03/25/travel/roge...</td>\n",
       "    </tr>\n",
       "    <tr>\n",
       "      <th>1</th>\n",
       "      <td>NaN</td>\n",
       "      <td>Life can change in an instant, as I experience...</td>\n",
       "      <td>Travel</td>\n",
       "      <td>https://www.nytimes.com/2021/03/29/travel/indi...</td>\n",
       "    </tr>\n",
       "    <tr>\n",
       "      <th>2</th>\n",
       "      <td>NaN</td>\n",
       "      <td>For six days, Paul Theroux, the famous America...</td>\n",
       "      <td>Travel</td>\n",
       "      <td>https://www.nytimes.com/2021/03/28/books/paul-...</td>\n",
       "    </tr>\n",
       "    <tr>\n",
       "      <th>3</th>\n",
       "      <td>NaN</td>\n",
       "      <td>The expected highlights of opening day, which ...</td>\n",
       "      <td>Sports</td>\n",
       "      <td>https://www.nytimes.com/2021/04/01/sports/base...</td>\n",
       "    </tr>\n",
       "    <tr>\n",
       "      <th>4</th>\n",
       "      <td>NaN</td>\n",
       "      <td>Over the course of the decade since I first vi...</td>\n",
       "      <td>Travel</td>\n",
       "      <td>https://www.nytimes.com/2021/03/30/travel/new-...</td>\n",
       "    </tr>\n",
       "  </tbody>\n",
       "</table>\n",
       "</div>"
      ],
      "text/plain": [
       "  Title                                            Article Section  \\\n",
       "0   NaN  Pilgrims have been coming to Switzerland’s  . ...  Travel   \n",
       "1   NaN  Life can change in an instant, as I experience...  Travel   \n",
       "2   NaN  For six days, Paul Theroux, the famous America...  Travel   \n",
       "3   NaN  The expected highlights of opening day, which ...  Sports   \n",
       "4   NaN  Over the course of the decade since I first vi...  Travel   \n",
       "\n",
       "                                         Article_URL  \n",
       "0  https://www.nytimes.com/2021/03/25/travel/roge...  \n",
       "1  https://www.nytimes.com/2021/03/29/travel/indi...  \n",
       "2  https://www.nytimes.com/2021/03/28/books/paul-...  \n",
       "3  https://www.nytimes.com/2021/04/01/sports/base...  \n",
       "4  https://www.nytimes.com/2021/03/30/travel/new-...  "
      ]
     },
     "execution_count": 9,
     "metadata": {},
     "output_type": "execute_result"
    }
   ],
   "source": [
    "nyt.head()"
   ]
  },
  {
   "cell_type": "code",
   "execution_count": 10,
   "metadata": {},
   "outputs": [
    {
     "data": {
      "text/plain": [
       "Title          22\n",
       "Article         2\n",
       "Section         0\n",
       "Article_URL     0\n",
       "dtype: int64"
      ]
     },
     "execution_count": 10,
     "metadata": {},
     "output_type": "execute_result"
    }
   ],
   "source": [
    "nyt.isna().sum()"
   ]
  },
  {
   "cell_type": "code",
   "execution_count": 11,
   "metadata": {},
   "outputs": [
    {
     "data": {
      "text/plain": [
       "(57, 4)"
      ]
     },
     "execution_count": 11,
     "metadata": {},
     "output_type": "execute_result"
    }
   ],
   "source": [
    "nyt.shape"
   ]
  },
  {
   "cell_type": "code",
   "execution_count": 12,
   "metadata": {},
   "outputs": [
    {
     "data": {
      "text/plain": [
       "array(['Travel', 'Sports', 'Business', 'Politics'], dtype=object)"
      ]
     },
     "execution_count": 12,
     "metadata": {},
     "output_type": "execute_result"
    }
   ],
   "source": [
    "nyt.Section.unique()"
   ]
  },
  {
   "cell_type": "code",
   "execution_count": 13,
   "metadata": {},
   "outputs": [
    {
     "data": {
      "text/html": [
       "<div>\n",
       "<style scoped>\n",
       "    .dataframe tbody tr th:only-of-type {\n",
       "        vertical-align: middle;\n",
       "    }\n",
       "\n",
       "    .dataframe tbody tr th {\n",
       "        vertical-align: top;\n",
       "    }\n",
       "\n",
       "    .dataframe thead th {\n",
       "        text-align: right;\n",
       "    }\n",
       "</style>\n",
       "<table border=\"1\" class=\"dataframe\">\n",
       "  <thead>\n",
       "    <tr style=\"text-align: right;\">\n",
       "      <th></th>\n",
       "      <th>Title</th>\n",
       "      <th>Article</th>\n",
       "      <th>Section</th>\n",
       "      <th>Article_URL</th>\n",
       "    </tr>\n",
       "  </thead>\n",
       "  <tbody>\n",
       "    <tr>\n",
       "      <th>0</th>\n",
       "      <td>\\nBritish taxpayers funded EU factory at heart...</td>\n",
       "      <td>British taxpayers have invested millions of po...</td>\n",
       "      <td>politics</td>\n",
       "      <td>https://www.telegraph.co.uk/news/2021/04/01/br...</td>\n",
       "    </tr>\n",
       "    <tr>\n",
       "      <th>1</th>\n",
       "      <td>\\nWhy Ursula von der Leyen won't quit over Ast...</td>\n",
       "      <td>Ursula von der Leyen has no plans to quit afte...</td>\n",
       "      <td>politics</td>\n",
       "      <td>https://www.telegraph.co.uk/news/2021/02/02/ur...</td>\n",
       "    </tr>\n",
       "    <tr>\n",
       "      <th>2</th>\n",
       "      <td>\\nOwen Paterson on the agony of his wife's sui...</td>\n",
       "      <td>When the police told Owen Paterson his wife Ro...</td>\n",
       "      <td>politics</td>\n",
       "      <td>https://www.telegraph.co.uk/news/2021/01/29/ow...</td>\n",
       "    </tr>\n",
       "    <tr>\n",
       "      <th>3</th>\n",
       "      <td>\\nA year of coronavirus lockdown: How Boris Jo...</td>\n",
       "      <td>Ever since his   last year, debate has raged a...</td>\n",
       "      <td>politics</td>\n",
       "      <td>https://www.telegraph.co.uk/politics/2021/03/1...</td>\n",
       "    </tr>\n",
       "    <tr>\n",
       "      <th>4</th>\n",
       "      <td>\\nEU's 'most embarrassing' day: How the AstraZ...</td>\n",
       "      <td>It was an extraordinary story – the European C...</td>\n",
       "      <td>politics</td>\n",
       "      <td>https://www.telegraph.co.uk/news/2021/03/24/eu...</td>\n",
       "    </tr>\n",
       "  </tbody>\n",
       "</table>\n",
       "</div>"
      ],
      "text/plain": [
       "                                               Title  \\\n",
       "0  \\nBritish taxpayers funded EU factory at heart...   \n",
       "1  \\nWhy Ursula von der Leyen won't quit over Ast...   \n",
       "2  \\nOwen Paterson on the agony of his wife's sui...   \n",
       "3  \\nA year of coronavirus lockdown: How Boris Jo...   \n",
       "4  \\nEU's 'most embarrassing' day: How the AstraZ...   \n",
       "\n",
       "                                             Article   Section  \\\n",
       "0  British taxpayers have invested millions of po...  politics   \n",
       "1  Ursula von der Leyen has no plans to quit afte...  politics   \n",
       "2  When the police told Owen Paterson his wife Ro...  politics   \n",
       "3  Ever since his   last year, debate has raged a...  politics   \n",
       "4  It was an extraordinary story – the European C...  politics   \n",
       "\n",
       "                                         Article_URL  \n",
       "0  https://www.telegraph.co.uk/news/2021/04/01/br...  \n",
       "1  https://www.telegraph.co.uk/news/2021/02/02/ur...  \n",
       "2  https://www.telegraph.co.uk/news/2021/01/29/ow...  \n",
       "3  https://www.telegraph.co.uk/politics/2021/03/1...  \n",
       "4  https://www.telegraph.co.uk/news/2021/03/24/eu...  "
      ]
     },
     "execution_count": 13,
     "metadata": {},
     "output_type": "execute_result"
    }
   ],
   "source": [
    "tel.head()"
   ]
  },
  {
   "cell_type": "code",
   "execution_count": 14,
   "metadata": {},
   "outputs": [
    {
     "data": {
      "text/plain": [
       "array(['politics', 'sport', 'business', 'culture'], dtype=object)"
      ]
     },
     "execution_count": 14,
     "metadata": {},
     "output_type": "execute_result"
    }
   ],
   "source": [
    "tel.Section.unique()"
   ]
  },
  {
   "cell_type": "code",
   "execution_count": 15,
   "metadata": {},
   "outputs": [
    {
     "data": {
      "text/plain": [
       "0      Politics\n",
       "1      Politics\n",
       "2      Politics\n",
       "3      Politics\n",
       "4      Politics\n",
       "         ...   \n",
       "191    Politics\n",
       "192    Politics\n",
       "193    Politics\n",
       "194    Politics\n",
       "195    Politics\n",
       "Name: Section, Length: 196, dtype: object"
      ]
     },
     "execution_count": 15,
     "metadata": {},
     "output_type": "execute_result"
    }
   ],
   "source": [
    "tel.Section = tel.Section.str.capitalize()\n",
    "tel.Section"
   ]
  },
  {
   "cell_type": "code",
   "execution_count": 16,
   "metadata": {},
   "outputs": [
    {
     "data": {
      "text/plain": [
       "array(['Politics', 'Sport', 'Business', 'Culture'], dtype=object)"
      ]
     },
     "execution_count": 16,
     "metadata": {},
     "output_type": "execute_result"
    }
   ],
   "source": [
    "tel.Section.unique()"
   ]
  },
  {
   "cell_type": "code",
   "execution_count": 17,
   "metadata": {},
   "outputs": [
    {
     "data": {
      "text/plain": [
       "(196,)"
      ]
     },
     "execution_count": 17,
     "metadata": {},
     "output_type": "execute_result"
    }
   ],
   "source": [
    "tel.Section.shape"
   ]
  },
  {
   "cell_type": "code",
   "execution_count": 18,
   "metadata": {},
   "outputs": [],
   "source": [
    "# Strip Empty spaces from all Titles in DataFrame\n",
    "tel.Title = tel['Title'].str.strip()\n",
    "nyt.Title = nyt['Title'].str.strip()\n",
    "fox.Title = fox['Title'].str.strip()"
   ]
  },
  {
   "cell_type": "code",
   "execution_count": 19,
   "metadata": {},
   "outputs": [
    {
     "data": {
      "text/plain": [
       "Title          41\n",
       "Article         6\n",
       "Section         0\n",
       "Article_URL     0\n",
       "dtype: int64"
      ]
     },
     "execution_count": 19,
     "metadata": {},
     "output_type": "execute_result"
    }
   ],
   "source": [
    "tel.isna().sum()"
   ]
  },
  {
   "cell_type": "code",
   "execution_count": 38,
   "metadata": {},
   "outputs": [],
   "source": [
    "# Concantenate all DataFrames into one\n",
    "data = pd.concat([pd.concat([tel, nyt]), fox])"
   ]
  },
  {
   "cell_type": "code",
   "execution_count": 59,
   "metadata": {},
   "outputs": [
    {
     "data": {
      "text/plain": [
       "array(['Politics', 'Sport', 'Business', 'Culture', 'Travel', 'Sports',\n",
       "       'Lifestyle'], dtype=object)"
      ]
     },
     "execution_count": 59,
     "metadata": {},
     "output_type": "execute_result"
    }
   ],
   "source": [
    "pd.read_csv(\"url_data.csv\")['Section'].unique()"
   ]
  },
  {
   "cell_type": "code",
   "execution_count": 39,
   "metadata": {},
   "outputs": [
    {
     "data": {
      "text/html": [
       "<div>\n",
       "<style scoped>\n",
       "    .dataframe tbody tr th:only-of-type {\n",
       "        vertical-align: middle;\n",
       "    }\n",
       "\n",
       "    .dataframe tbody tr th {\n",
       "        vertical-align: top;\n",
       "    }\n",
       "\n",
       "    .dataframe thead th {\n",
       "        text-align: right;\n",
       "    }\n",
       "</style>\n",
       "<table border=\"1\" class=\"dataframe\">\n",
       "  <thead>\n",
       "    <tr style=\"text-align: right;\">\n",
       "      <th></th>\n",
       "      <th>Title</th>\n",
       "      <th>Article</th>\n",
       "      <th>Section</th>\n",
       "      <th>Article_URL</th>\n",
       "    </tr>\n",
       "  </thead>\n",
       "  <tbody>\n",
       "    <tr>\n",
       "      <th>0</th>\n",
       "      <td>British taxpayers funded EU factory at heart o...</td>\n",
       "      <td>British taxpayers have invested millions of po...</td>\n",
       "      <td>Politics</td>\n",
       "      <td>https://www.telegraph.co.uk/news/2021/04/01/br...</td>\n",
       "    </tr>\n",
       "    <tr>\n",
       "      <th>1</th>\n",
       "      <td>Why Ursula von der Leyen won't quit over Astra...</td>\n",
       "      <td>Ursula von der Leyen has no plans to quit afte...</td>\n",
       "      <td>Politics</td>\n",
       "      <td>https://www.telegraph.co.uk/news/2021/02/02/ur...</td>\n",
       "    </tr>\n",
       "    <tr>\n",
       "      <th>2</th>\n",
       "      <td>Owen Paterson on the agony of his wife's suici...</td>\n",
       "      <td>When the police told Owen Paterson his wife Ro...</td>\n",
       "      <td>Politics</td>\n",
       "      <td>https://www.telegraph.co.uk/news/2021/01/29/ow...</td>\n",
       "    </tr>\n",
       "    <tr>\n",
       "      <th>3</th>\n",
       "      <td>A year of coronavirus lockdown: How Boris John...</td>\n",
       "      <td>Ever since his   last year, debate has raged a...</td>\n",
       "      <td>Politics</td>\n",
       "      <td>https://www.telegraph.co.uk/politics/2021/03/1...</td>\n",
       "    </tr>\n",
       "    <tr>\n",
       "      <th>4</th>\n",
       "      <td>EU's 'most embarrassing' day: How the AstraZen...</td>\n",
       "      <td>It was an extraordinary story – the European C...</td>\n",
       "      <td>Politics</td>\n",
       "      <td>https://www.telegraph.co.uk/news/2021/03/24/eu...</td>\n",
       "    </tr>\n",
       "  </tbody>\n",
       "</table>\n",
       "</div>"
      ],
      "text/plain": [
       "                                               Title  \\\n",
       "0  British taxpayers funded EU factory at heart o...   \n",
       "1  Why Ursula von der Leyen won't quit over Astra...   \n",
       "2  Owen Paterson on the agony of his wife's suici...   \n",
       "3  A year of coronavirus lockdown: How Boris John...   \n",
       "4  EU's 'most embarrassing' day: How the AstraZen...   \n",
       "\n",
       "                                             Article   Section  \\\n",
       "0  British taxpayers have invested millions of po...  Politics   \n",
       "1  Ursula von der Leyen has no plans to quit afte...  Politics   \n",
       "2  When the police told Owen Paterson his wife Ro...  Politics   \n",
       "3  Ever since his   last year, debate has raged a...  Politics   \n",
       "4  It was an extraordinary story – the European C...  Politics   \n",
       "\n",
       "                                         Article_URL  \n",
       "0  https://www.telegraph.co.uk/news/2021/04/01/br...  \n",
       "1  https://www.telegraph.co.uk/news/2021/02/02/ur...  \n",
       "2  https://www.telegraph.co.uk/news/2021/01/29/ow...  \n",
       "3  https://www.telegraph.co.uk/politics/2021/03/1...  \n",
       "4  https://www.telegraph.co.uk/news/2021/03/24/eu...  "
      ]
     },
     "execution_count": 39,
     "metadata": {},
     "output_type": "execute_result"
    }
   ],
   "source": [
    "data.head()"
   ]
  },
  {
   "cell_type": "markdown",
   "metadata": {},
   "source": [
    "#### Data Pre-processing"
   ]
  },
  {
   "cell_type": "code",
   "execution_count": 22,
   "metadata": {},
   "outputs": [],
   "source": [
    "import re\n",
    "import string\n",
    "import nltk\n",
    "from html.parser import HTMLParser\n",
    "from nltk.corpus import stopwords"
   ]
  },
  {
   "cell_type": "code",
   "execution_count": 23,
   "metadata": {},
   "outputs": [],
   "source": [
    "# Function turning a list into a string\n",
    "def listToString(s): \n",
    "    str1 = \" \"   \n",
    "    return (str1.join(s))\n",
    "\n",
    "# Function to clean texts\n",
    "def clean_texts(text):\n",
    "  # Removing html characters\n",
    "  text = HTMLParser().unescape(text)\n",
    "  # Removing urls and hashtags\n",
    "  text = re.sub(r'https?:\\/\\/.\\S+', \"\", text)\n",
    "  text = re.sub(r'#', '', text)\n",
    "  text = re.sub(r'^RT[\\s]+', '', text)\n",
    "  # Contradiction replacement\n",
    "  dictionary={\"'s\":\" is\",\"n't\":\" not\",\"'m\":\" am\",\"'ll\":\" will\",\n",
    "           \"'d\":\" would\",\"'ve\":\" have\",\"'re\":\" are\", \"\\n\":\" \"}\n",
    "  for key,value in dictionary.items():\n",
    "      if key in text:\n",
    "          text = text.replace(key, value)\n",
    "  # Convert to lower case\n",
    "  text = text.lower()\n",
    "  # Removing stopwords\n",
    "  nltk.download('stopwords')\n",
    "  stopwords_eng = stopwords.words('english') \n",
    "  text_tokens = text.split()\n",
    "  text_list=[]\n",
    "  for word in text_tokens:\n",
    "      if word not in stopwords_eng:\n",
    "          text_list.append(word)\n",
    "  # Remove punctuations\n",
    "  clean_text = []\n",
    "  for word in text_list:\n",
    "      if word not in string.punctuation:\n",
    "          clean_text.append(word)\n",
    "\n",
    "  # Turning the list of words into a single string\n",
    "  clean_text = listToString(clean_text)\n",
    "  return clean_text"
   ]
  },
  {
   "cell_type": "code",
   "execution_count": 24,
   "metadata": {},
   "outputs": [
    {
     "ename": "TypeError",
     "evalue": "'function' object is not subscriptable",
     "output_type": "error",
     "traceback": [
      "\u001b[0;31m---------------------------------------------------------------------------\u001b[0m",
      "\u001b[0;31mTypeError\u001b[0m                                 Traceback (most recent call last)",
      "\u001b[0;32m<ipython-input-24-77dbd445b678>\u001b[0m in \u001b[0;36m<module>\u001b[0;34m\u001b[0m\n\u001b[0;32m----> 1\u001b[0;31m \u001b[0mclean_texts\u001b[0m\u001b[0;34m[\u001b[0m\u001b[0mdata\u001b[0m\u001b[0;34m[\u001b[0m\u001b[0;34m'Article'\u001b[0m\u001b[0;34m]\u001b[0m\u001b[0;34m.\u001b[0m\u001b[0miloc\u001b[0m\u001b[0;34m[\u001b[0m\u001b[0;36m0\u001b[0m\u001b[0;34m,\u001b[0m\u001b[0;34m]\u001b[0m\u001b[0;34m]\u001b[0m\u001b[0;34m\u001b[0m\u001b[0;34m\u001b[0m\u001b[0m\n\u001b[0m",
      "\u001b[0;31mTypeError\u001b[0m: 'function' object is not subscriptable"
     ]
    }
   ],
   "source": [
    "clean_texts[data['Article'].iloc[0,]]"
   ]
  },
  {
   "cell_type": "code",
   "execution_count": null,
   "metadata": {},
   "outputs": [],
   "source": [
    "# Cleaning all the article texts\n",
    "for i, article in enumerate(data.Article):\n",
    "    try:\n",
    "        data.Article.iloc[i] = clean_texts(data['Article'].iloc[i])\n",
    "    except:\n",
    "        pass"
   ]
  },
  {
   "cell_type": "code",
   "execution_count": null,
   "metadata": {},
   "outputs": [],
   "source": [
    "# Cleaning all the titlesv\n",
    "for i, title in enumerate(data.Title):\n",
    "    try:\n",
    "        data.Title.iloc[i] = clean_texts(data['Title'].iloc[i])\n",
    "    except:\n",
    "        pass"
   ]
  },
  {
   "cell_type": "code",
   "execution_count": null,
   "metadata": {},
   "outputs": [],
   "source": [
    "data.head()"
   ]
  },
  {
   "cell_type": "code",
   "execution_count": null,
   "metadata": {},
   "outputs": [],
   "source": [
    "data.dropna(inplace=True)"
   ]
  },
  {
   "cell_type": "code",
   "execution_count": 25,
   "metadata": {},
   "outputs": [],
   "source": [
    "y = data.Section.values # Target\n",
    "X = data.drop('Section', axis=1) # Features"
   ]
  },
  {
   "cell_type": "code",
   "execution_count": 26,
   "metadata": {},
   "outputs": [],
   "source": [
    "le = LabelEncoder()\n",
    "\n",
    "le.fit(y)\n",
    "y = le.transform(y)"
   ]
  },
  {
   "cell_type": "code",
   "execution_count": 27,
   "metadata": {},
   "outputs": [
    {
     "data": {
      "text/plain": [
       "array([3, 3, 3, 3, 3, 3, 3, 3, 3, 3, 3, 3, 3, 3, 3, 3, 4, 4, 3, 4, 4, 4,\n",
       "       4, 4, 4, 4, 4, 4, 4, 4, 4, 4, 4, 4, 4, 4, 4, 4, 4, 4, 4, 0, 4, 4,\n",
       "       4, 4, 0, 0, 4, 0, 0, 0, 0, 4, 0, 4, 4, 4, 4, 4, 4, 4, 4, 4, 4, 4,\n",
       "       4, 4, 4, 4, 4, 4, 4, 4, 4, 0, 0, 4, 0, 0, 4, 0, 0, 0, 0, 0, 0, 0,\n",
       "       0, 0, 0, 0, 0, 0, 0, 0, 0, 0, 0, 0, 4, 0, 0, 0, 0, 0, 0, 0, 0, 0,\n",
       "       0, 0, 0, 0, 0, 0, 0, 0, 0, 0, 0, 0, 1, 0, 1, 1, 1, 1, 1, 1, 1, 1,\n",
       "       1, 0, 1, 1, 1, 1, 1, 1, 1, 1, 1, 1, 1, 1, 1, 1, 1, 1, 1, 1, 1, 1,\n",
       "       1, 1, 1, 1, 1, 1, 1, 1, 1, 1, 1, 1, 1, 1, 1, 3, 3, 1, 3, 3, 3, 3,\n",
       "       3, 3, 3, 3, 3, 3, 3, 3, 3, 3, 3, 3, 3, 3, 3, 3, 3, 3, 3, 3, 6, 6,\n",
       "       6, 5, 6, 6, 6, 6, 5, 6, 6, 6, 6, 6, 5, 6, 0, 0, 0, 0, 0, 0, 0, 0,\n",
       "       0, 0, 0, 0, 3, 0, 0, 3, 3, 3, 3, 3, 5, 5, 5, 5, 5, 5, 5, 5, 3, 5,\n",
       "       5, 5, 5, 3, 5, 5, 5, 6, 5, 6, 5, 3, 3, 3, 3, 3, 3, 3, 3, 3, 3, 3,\n",
       "       3, 5, 5, 3, 5, 3, 5, 5, 5, 5, 2, 3, 2, 2, 2, 2, 2, 2, 2, 2, 2, 2,\n",
       "       2, 2, 2, 2, 2, 2, 2, 2, 2, 2, 2, 2, 2, 5, 2, 5, 5, 5, 5, 2, 5, 5,\n",
       "       5, 5, 2, 5, 5, 5, 5, 2, 5, 5, 5, 5, 5, 5, 5, 5, 5, 5, 5, 5, 5, 5,\n",
       "       5, 5, 3, 3, 3, 3, 3, 5, 3, 3, 3, 3, 3, 3, 3])"
      ]
     },
     "execution_count": 27,
     "metadata": {},
     "output_type": "execute_result"
    }
   ],
   "source": [
    "y"
   ]
  },
  {
   "cell_type": "code",
   "execution_count": 29,
   "metadata": {},
   "outputs": [
    {
     "data": {
      "text/plain": [
       "array(['Politics', 'Politics', 'Politics', 'Politics', 'Politics',\n",
       "       'Politics', 'Politics', 'Politics', 'Politics', 'Politics',\n",
       "       'Politics', 'Politics', 'Politics', 'Politics', 'Politics',\n",
       "       'Politics', 'Sport', 'Sport', 'Politics', 'Sport', 'Sport',\n",
       "       'Sport', 'Sport', 'Sport', 'Sport', 'Sport', 'Sport', 'Sport',\n",
       "       'Sport', 'Sport', 'Sport', 'Sport', 'Sport', 'Sport', 'Sport',\n",
       "       'Sport', 'Sport', 'Sport', 'Sport', 'Sport', 'Sport', 'Business',\n",
       "       'Sport', 'Sport', 'Sport', 'Sport', 'Business', 'Business',\n",
       "       'Sport', 'Business', 'Business', 'Business', 'Business', 'Sport',\n",
       "       'Business', 'Sport', 'Sport', 'Sport', 'Sport', 'Sport', 'Sport',\n",
       "       'Sport', 'Sport', 'Sport', 'Sport', 'Sport', 'Sport', 'Sport',\n",
       "       'Sport', 'Sport', 'Sport', 'Sport', 'Sport', 'Sport', 'Sport',\n",
       "       'Business', 'Business', 'Sport', 'Business', 'Business', 'Sport',\n",
       "       'Business', 'Business', 'Business', 'Business', 'Business',\n",
       "       'Business', 'Business', 'Business', 'Business', 'Business',\n",
       "       'Business', 'Business', 'Business', 'Business', 'Business',\n",
       "       'Business', 'Business', 'Business', 'Business', 'Sport',\n",
       "       'Business', 'Business', 'Business', 'Business', 'Business',\n",
       "       'Business', 'Business', 'Business', 'Business', 'Business',\n",
       "       'Business', 'Business', 'Business', 'Business', 'Business',\n",
       "       'Business', 'Business', 'Business', 'Business', 'Business',\n",
       "       'Business', 'Culture', 'Business', 'Culture', 'Culture', 'Culture',\n",
       "       'Culture', 'Culture', 'Culture', 'Culture', 'Culture', 'Culture',\n",
       "       'Business', 'Culture', 'Culture', 'Culture', 'Culture', 'Culture',\n",
       "       'Culture', 'Culture', 'Culture', 'Culture', 'Culture', 'Culture',\n",
       "       'Culture', 'Culture', 'Culture', 'Culture', 'Culture', 'Culture',\n",
       "       'Culture', 'Culture', 'Culture', 'Culture', 'Culture', 'Culture',\n",
       "       'Culture', 'Culture', 'Culture', 'Culture', 'Culture', 'Culture',\n",
       "       'Culture', 'Culture', 'Culture', 'Culture', 'Culture', 'Culture',\n",
       "       'Politics', 'Politics', 'Culture', 'Politics', 'Politics',\n",
       "       'Politics', 'Politics', 'Politics', 'Politics', 'Politics',\n",
       "       'Politics', 'Politics', 'Politics', 'Politics', 'Politics',\n",
       "       'Politics', 'Politics', 'Politics', 'Politics', 'Politics',\n",
       "       'Politics', 'Politics', 'Politics', 'Politics', 'Politics',\n",
       "       'Politics', 'Politics', 'Travel', 'Travel', 'Travel', 'Sports',\n",
       "       'Travel', 'Travel', 'Travel', 'Travel', 'Sports', 'Travel',\n",
       "       'Travel', 'Travel', 'Travel', 'Travel', 'Sports', 'Travel',\n",
       "       'Business', 'Business', 'Business', 'Business', 'Business',\n",
       "       'Business', 'Business', 'Business', 'Business', 'Business',\n",
       "       'Business', 'Business', 'Politics', 'Business', 'Business',\n",
       "       'Politics', 'Politics', 'Politics', 'Politics', 'Politics',\n",
       "       'Sports', 'Sports', 'Sports', 'Sports', 'Sports', 'Sports',\n",
       "       'Sports', 'Sports', 'Politics', 'Sports', 'Sports', 'Sports',\n",
       "       'Sports', 'Politics', 'Sports', 'Sports', 'Sports', 'Travel',\n",
       "       'Sports', 'Travel', 'Sports', 'Politics', 'Politics', 'Politics',\n",
       "       'Politics', 'Politics', 'Politics', 'Politics', 'Politics',\n",
       "       'Politics', 'Politics', 'Politics', 'Politics', 'Sports', 'Sports',\n",
       "       'Politics', 'Sports', 'Politics', 'Sports', 'Sports', 'Sports',\n",
       "       'Sports', 'Lifestyle', 'Politics', 'Lifestyle', 'Lifestyle',\n",
       "       'Lifestyle', 'Lifestyle', 'Lifestyle', 'Lifestyle', 'Lifestyle',\n",
       "       'Lifestyle', 'Lifestyle', 'Lifestyle', 'Lifestyle', 'Lifestyle',\n",
       "       'Lifestyle', 'Lifestyle', 'Lifestyle', 'Lifestyle', 'Lifestyle',\n",
       "       'Lifestyle', 'Lifestyle', 'Lifestyle', 'Lifestyle', 'Lifestyle',\n",
       "       'Lifestyle', 'Sports', 'Lifestyle', 'Sports', 'Sports', 'Sports',\n",
       "       'Sports', 'Lifestyle', 'Sports', 'Sports', 'Sports', 'Sports',\n",
       "       'Lifestyle', 'Sports', 'Sports', 'Sports', 'Sports', 'Lifestyle',\n",
       "       'Sports', 'Sports', 'Sports', 'Sports', 'Sports', 'Sports',\n",
       "       'Sports', 'Sports', 'Sports', 'Sports', 'Sports', 'Sports',\n",
       "       'Sports', 'Sports', 'Sports', 'Sports', 'Politics', 'Politics',\n",
       "       'Politics', 'Politics', 'Politics', 'Sports', 'Politics',\n",
       "       'Politics', 'Politics', 'Politics', 'Politics', 'Politics',\n",
       "       'Politics'], dtype=object)"
      ]
     },
     "execution_count": 29,
     "metadata": {},
     "output_type": "execute_result"
    }
   ],
   "source": [
    "le.inverse_transform(y)"
   ]
  },
  {
   "cell_type": "code",
   "execution_count": 115,
   "metadata": {},
   "outputs": [
    {
     "data": {
      "text/plain": [
       "0     british taxpayers invested millions pounds dut...\n",
       "1     ursula von der leyen plans quit last week’s co...\n",
       "2     police told owen paterson wife rose found shro...\n",
       "3     ever since last year, debate raged extent expe...\n",
       "4     extraordinary story – european commission find...\n",
       "                            ...                        \n",
       "87    race-based universal basic income payments sta...\n",
       "88    administration announced friday would begin in...\n",
       "89    photo, exclusively obtained fox news, shows --...\n",
       "90    pair interview clips released friday, claimed ...\n",
       "91    new polling data shows almost three four ameri...\n",
       "Name: Article, Length: 281, dtype: object"
      ]
     },
     "execution_count": 115,
     "metadata": {},
     "output_type": "execute_result"
    }
   ],
   "source": [
    "X.Article"
   ]
  },
  {
   "cell_type": "code",
   "execution_count": 133,
   "metadata": {},
   "outputs": [],
   "source": [
    "tokenizer = Tokenizer(num_words=100)\n",
    "\n",
    "tokenizer.fit_on_texts(X.Article)\n",
    "enc_article = tokenizer.texts_to_sequences(X.Article)"
   ]
  },
  {
   "cell_type": "code",
   "execution_count": 134,
   "metadata": {},
   "outputs": [],
   "source": [
    "max_length = 10\n",
    "padded_data = pad_sequences(enc_article, maxlen=max_length, padding='post')"
   ]
  },
  {
   "cell_type": "code",
   "execution_count": 154,
   "metadata": {},
   "outputs": [],
   "source": [
    "model = PCA(2)\n",
    "X_reduced = model.fit_transform(padded_data)"
   ]
  },
  {
   "cell_type": "markdown",
   "metadata": {},
   "source": [
    "#### KMeans Model"
   ]
  },
  {
   "cell_type": "code",
   "execution_count": 174,
   "metadata": {},
   "outputs": [],
   "source": [
    "from sklearn.cluster import KMeans\n",
    "from sklearn.metrics.cluster import adjusted_rand_score"
   ]
  },
  {
   "cell_type": "code",
   "execution_count": 175,
   "metadata": {},
   "outputs": [],
   "source": [
    "k_means = KMeans(n_clusters=7, random_state=42)\n",
    "preds = k_means.fit_predict(np.array(X_reduced))"
   ]
  },
  {
   "cell_type": "code",
   "execution_count": 170,
   "metadata": {},
   "outputs": [
    {
     "data": {
      "text/plain": [
       "array([0, 1, 0, 0, 3, 0, 1, 3, 3, 1, 3, 0, 1, 1, 3, 0, 1, 3, 0, 2, 3, 0,\n",
       "       0, 0, 1, 1, 0, 1, 1, 1, 3, 3, 1, 2, 2, 3, 3, 3, 0, 3, 2, 0, 1, 3,\n",
       "       2, 1, 2, 2, 3, 0, 1, 2, 3, 1, 1, 0, 0, 1, 1, 1, 3, 1, 3, 2, 0, 1,\n",
       "       2, 0, 0, 2, 3, 3, 1, 0, 1, 0, 1, 2, 0, 0, 3, 3, 1, 2, 0, 0, 3, 2,\n",
       "       3, 3, 2, 0, 3, 0, 1, 1, 0, 3, 0, 0, 1, 0, 0, 2, 0, 3, 1, 3, 1, 0,\n",
       "       2, 2, 0, 2, 1, 3, 0, 1, 0, 2, 0, 2, 0, 1, 3, 0, 1, 0, 3, 2, 3, 1,\n",
       "       0, 1, 1, 0, 3, 0, 0, 3, 2, 3, 3, 1, 0, 3, 2, 0, 0, 0, 1, 0, 2, 2,\n",
       "       0, 0, 3, 3, 1, 3, 3, 3, 3, 0, 0, 3, 2, 1, 2, 1, 0, 0, 0, 0, 2, 2,\n",
       "       3, 2, 1, 0, 1, 2, 1, 1, 0, 0, 2, 0, 3, 2, 1, 1, 1, 3, 1, 1, 2, 3,\n",
       "       1, 0, 1, 2, 3, 0, 3, 0, 1, 2, 1, 0, 1, 0, 2, 0, 1, 3, 1, 0, 0, 3,\n",
       "       0, 1, 3, 2, 3, 0, 0, 3, 2, 0, 2, 3, 2, 3, 3, 0, 3, 3, 3, 3, 1, 2,\n",
       "       1, 2, 1, 0, 0, 1, 1, 2, 0, 3, 0, 1, 3, 0, 0, 2, 2, 1, 3, 1, 3, 3,\n",
       "       2, 1, 1, 3, 0, 1, 2, 3, 2, 0, 1, 3, 0, 2, 1, 1, 1], dtype=int32)"
      ]
     },
     "execution_count": 170,
     "metadata": {},
     "output_type": "execute_result"
    }
   ],
   "source": [
    "preds"
   ]
  },
  {
   "cell_type": "code",
   "execution_count": 173,
   "metadata": {},
   "outputs": [
    {
     "name": "stderr",
     "output_type": "stream",
     "text": [
      "/Users/turikumwe/opt/anaconda3/lib/python3.8/site-packages/seaborn/_decorators.py:36: FutureWarning: Pass the following variables as keyword args: x, y. From version 0.12, the only valid positional argument will be `data`, and passing other arguments without an explicit keyword will result in an error or misinterpretation.\n",
      "  warnings.warn(\n"
     ]
    },
    {
     "data": {
      "image/png": "[encoded data removed]",
      "text/plain": [
       "<Figure size 576x360 with 1 Axes>"
      ]
     },
     "metadata": {
      "needs_background": "light"
     },
     "output_type": "display_data"
    }
   ],
   "source": [
    "fig = plt.figure(figsize=(8, 5))\n",
    "ax = sns.scatterplot(X_reduced[:, 0], X_reduced[:, 1], hue=preds)"
   ]
  },
  {
   "cell_type": "code",
   "execution_count": 184,
   "metadata": {},
   "outputs": [
    {
     "name": "stdout",
     "output_type": "stream",
     "text": [
      "Model's Adj Rand Score: 0.0008231900325318509\n"
     ]
    }
   ],
   "source": [
    "print(\"Model's Adj Rand Score: {}\".format(adjusted_rand_score(preds, y[:281])))"
   ]
  },
  {
   "cell_type": "markdown",
   "metadata": {},
   "source": []
  },
  {
   "cell_type": "code",
   "execution_count": 185,
   "metadata": {},
   "outputs": [],
   "source": [
    "import pickle"
   ]
  },
  {
   "cell_type": "code",
   "execution_count": 187,
   "metadata": {},
   "outputs": [],
   "source": [
    "# Save Model\n",
    "filename = \"kmeans_model.sav\"\n",
    "pickle.dump(k_means, open(filename, 'wb'))"
   ]
  },
  {
   "cell_type": "code",
   "execution_count": 188,
   "metadata": {},
   "outputs": [],
   "source": [
    "# Save Tokernizer\n",
    "filename = \"tokenizer.pickle\"\n",
    "pickle.dump(tokenizer, open(filename, 'wb'))"
   ]
  },
  {
   "cell_type": "code",
   "execution_count": 191,
   "metadata": {},
   "outputs": [],
   "source": [
    "pd.DataFrame(X_reduced).to_csv('cluster_file.csv')"
   ]
  },
  {
   "cell_type": "code",
   "execution_count": 57,
   "metadata": {},
   "outputs": [],
   "source": [
    "data.to_csv('url_data.csv')"
   ]
  }
 ],
 "metadata": {
  "kernelspec": {
   "display_name": "Python 3",
   "language": "python",
   "name": "python3"
  },
  "language_info": {
   "codemirror_mode": {
    "name": "ipython",
    "version": 3
   },
   "file_extension": ".py",
   "mimetype": "text/x-python",
   "name": "python",
   "nbconvert_exporter": "python",
   "pygments_lexer": "ipython3",
   "version": "3.8.3"
  }
 },
 "nbformat": 4,
 "nbformat_minor": 4
}
